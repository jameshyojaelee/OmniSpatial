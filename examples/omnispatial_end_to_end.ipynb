{
  "cells": [
    {
      "cell_type": "markdown",
      "metadata": {},
      "source": [
        "# OmniSpatial End-to-End Tutorial"
      ]
    },
    {
      "cell_type": "markdown",
      "metadata": {},
      "source": [
        "This notebook builds a small Xenium-like dataset, converts it to OME-NGFF and SpatialData, validates the output, and outlines how to explore the results in napari and the web viewer. Run the notebook from the repository root using Poetry to ensure all dependencies are available."
      ]
    },
    {
      "cell_type": "code",
      "execution_count": null,
      "metadata": {},
      "outputs": [],
      "source": [
        "from __future__ import annotations\n",
        "\n",
        "import json\n",
        "import shutil\n",
        "import subprocess\n",
        "from pathlib import Path\n",
        "\n",
        "import numpy as np\n",
        "import pandas as pd\n",
        "import tifffile\n",
        "\n",
        "project_root = Path.cwd().resolve()\n",
        "examples_dir = project_root / \"examples\" / \"artifacts\"\n",
        "dataset_dir = examples_dir / \"xenium_synth\"\n",
        "ngff_path = examples_dir / \"xenium_ngff.zarr\"\n",
        "spatial_path = examples_dir / \"xenium_sdata.zarr\"\n",
        "report_path = examples_dir / \"ngff_report.json\"\n",
        "\n",
        "examples_dir.mkdir(parents=True, exist_ok=True)\n",
        "shutil.rmtree(dataset_dir, ignore_errors=True)\n",
        "dataset_dir.mkdir(parents=True, exist_ok=True)\n"
      ]
    },
    {
      "cell_type": "markdown",
      "metadata": {},
      "source": [
        "## 1. Generate a synthetic dataset"
      ]
    },
    {
      "cell_type": "code",
      "execution_count": null,
      "metadata": {},
      "outputs": [],
      "source": [
        "(dataset_dir / \"images\").mkdir(parents=True, exist_ok=True)\n",
        "image = np.array(\n",
        "    [\n",
        "        [0, 10, 20, 30],\n",
        "        [10, 50, 60, 20],\n",
        "        [20, 70, 90, 40],\n",
        "        [5, 15, 25, 35],\n",
        "    ],\n",
        "    dtype=np.uint16,\n",
        ")\n",
        "tifffile.imwrite(dataset_dir / \"images\" / \"synthetic.tif\", image, photometric=\"minisblack\")\n"
      ]
    },
    {
      "cell_type": "code",
      "execution_count": null,
      "metadata": {},
      "outputs": [],
      "source": [
        "cells = pd.DataFrame(\n",
        "    {\n",
        "        \"cell_id\": [\"cell_1\", \"cell_2\"],\n",
        "        \"x\": [1.0, 2.5],\n",
        "        \"y\": [1.0, 2.0],\n",
        "        \"area\": [1.0, 1.5],\n",
        "        \"polygon_wkt\": [\n",
        "            \"POLYGON ((0.5 0.5, 1.5 0.5, 1.5 1.5, 0.5 1.5, 0.5 0.5))\",\n",
        "            \"POLYGON ((2 1.5, 3 1.5, 3 2.5, 2 2.5, 2 1.5))\",\n",
        "        ],\n",
        "    }\n",
        ")\n",
        "cells.to_csv(dataset_dir / \"cells.csv\", index=False)\n",
        "matrix = pd.DataFrame(\n",
        "    {\n",
        "        \"cell_id\": [\"cell_1\", \"cell_1\", \"cell_2\"],\n",
        "        \"gene\": [\"G1\", \"G2\", \"G1\"],\n",
        "        \"count\": [10, 5, 3],\n",
        "    }\n",
        ")\n",
        "matrix.to_csv(dataset_dir / \"matrix.csv\", index=False)\n"
      ]
    },
    {
      "cell_type": "markdown",
      "metadata": {},
      "source": [
        "## 2. Convert to NGFF and SpatialData"
      ]
    },
    {
      "cell_type": "code",
      "execution_count": null,
      "metadata": {},
      "outputs": [],
      "source": [
        "shutil.rmtree(ngff_path, ignore_errors=True)\n",
        "shutil.rmtree(spatial_path, ignore_errors=True)\n",
        "\n",
        "omnispatial_dir = project_root / \"omnispatial\"\n",
        "subprocess.run(\n",
        "    [\n",
        "        \"poetry\",\n",
        "        \"run\",\n",
        "        \"omnispatial\",\n",
        "        \"convert\",\n",
        "        str(dataset_dir),\n",
        "        \"--out\",\n",
        "        str(ngff_path),\n",
        "        \"--format\",\n",
        "        \"ngff\",\n",
        "        \"--vendor\",\n",
        "        \"xenium\",\n",
        "    ],\n",
        "    cwd=omnispatial_dir,\n",
        "    check=True,\n",
        ")\n",
        "subprocess.run(\n",
        "    [\n",
        "        \"poetry\",\n",
        "        \"run\",\n",
        "        \"omnispatial\",\n",
        "        \"convert\",\n",
        "        str(dataset_dir),\n",
        "        \"--out\",\n",
        "        str(spatial_path),\n",
        "        \"--format\",\n",
        "        \"spatialdata\",\n",
        "        \"--vendor\",\n",
        "        \"xenium\",\n",
        "    ],\n",
        "    cwd=omnispatial_dir,\n",
        "    check=True,\n",
        ")\n"
      ]
    },
    {
      "cell_type": "markdown",
      "metadata": {},
      "source": [
        "## 3. Validate and inspect the report"
      ]
    },
    {
      "cell_type": "code",
      "execution_count": null,
      "metadata": {},
      "outputs": [],
      "source": [
        "if report_path.exists():\n",
        "    report_path.unlink()\n",
        "subprocess.run(\n",
        "    [\n",
        "        \"poetry\",\n",
        "        \"run\",\n",
        "        \"omnispatial\",\n",
        "        \"validate\",\n",
        "        str(ngff_path),\n",
        "        \"--format\",\n",
        "        \"ngff\",\n",
        "        \"--json\",\n",
        "        str(report_path),\n",
        "    ],\n",
        "    cwd=omnispatial_dir,\n",
        "    check=True,\n",
        ")\n",
        "report = json.loads(report_path.read_text())\n",
        "print(json.dumps(report, indent=2))\n"
      ]
    },
    {
      "cell_type": "markdown",
      "metadata": {},
      "source": [
        "## 4. Explore the results"
      ]
    },
    {
      "cell_type": "markdown",
      "metadata": {},
      "source": [
        "- Launch napari with the NGFF bundle and enable the \"OmniSpatial Inspector\" dock widget:\n",
        "  ```bash\n",
        "  cd omnispatial\n",
        "  poetry run napari ../examples/artifacts/xenium_ngff.zarr\n",
        "  ```\n",
        "- Serve the NGFF Zarr over HTTP and open the web viewer:\n",
        "  ```bash\n",
        "  cd examples/artifacts\n",
        "  python -m http.server 8000\n",
        "  # In another terminal\n",
        "  cd viewer\n",
        "  pnpm dev\n",
        "  ```\n",
        "  Visit http://localhost:3000 and load `http://localhost:8000/xenium_ngff.zarr`."
      ]
    }
  ],
  "metadata": {
    "kernelspec": {
      "display_name": "Python 3",
      "language": "python",
      "name": "python3"
    },
    "language_info": {
      "name": "python",
      "version": "3.11",
      "mimetype": "text/x-python",
      "codemirror_mode": {
        "name": "ipython",
        "version": 3
      },
      "pygments_lexer": "ipython3",
      "nbconvert_exporter": "python",
      "file_extension": ".py"
    }
  },
  "nbformat": 4,
  "nbformat_minor": 5
}